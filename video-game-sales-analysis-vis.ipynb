{
 "cells": [
  {
   "cell_type": "markdown",
   "metadata": {},
   "source": [
    "# Introduction\n",
    "This notebook aims to analyze dataset of video games with sales greater than 100,000 copies across 4 different regions (North America, Europe, Japan, and other regions) as well as the global sales."
   ]
  },
  {
   "cell_type": "markdown",
   "metadata": {},
   "source": [
    "# Sturcture \n",
    "* Importing Libraries\n",
    "* Loading the data\n",
    "* Exploring data\n",
    "    * Observations\n",
    "    * Actions\n",
    "    * Visual Exploration\n",
    "* Data Analysis\n",
    "    * Calculate sales for each genre\n",
    "    * Calculating highest sales for each publisher over the course of the years\n",
    "    * Calculating each region percentage of global genre sales"
   ]
  },
  {
   "cell_type": "markdown",
   "metadata": {},
   "source": [
    "# Importing libraries"
   ]
  },
  {
   "cell_type": "code",
   "execution_count": 1,
   "metadata": {
    "_cell_guid": "b1076dfc-b9ad-4769-8c92-a6c4dae69d19",
    "_uuid": "8f2839f25d086af736a60e9eeb907d3b93b6e0e5",
    "execution": {
     "iopub.execute_input": "2021-08-08T11:31:21.548334Z",
     "iopub.status.busy": "2021-08-08T11:31:21.547954Z",
     "iopub.status.idle": "2021-08-08T11:31:22.725473Z",
     "shell.execute_reply": "2021-08-08T11:31:22.724665Z",
     "shell.execute_reply.started": "2021-08-08T11:31:21.548257Z"
    }
   },
   "outputs": [],
   "source": [
    "# Statistical analysis libraries\n",
    "import numpy as np \n",
    "import pandas as pd \n",
    "\n",
    "# Data visualization libraries\n",
    "import matplotlib.pyplot as plt\n",
    "import seaborn as sns\n",
    "import plotly.express as px\n",
    "%matplotlib inline"
   ]
  },
  {
   "cell_type": "markdown",
   "metadata": {},
   "source": [
    "# Loading data"
   ]
  },
  {
   "cell_type": "code",
   "execution_count": 2,
   "metadata": {
    "execution": {
     "iopub.execute_input": "2021-08-08T11:31:22.727555Z",
     "iopub.status.busy": "2021-08-08T11:31:22.727048Z",
     "iopub.status.idle": "2021-08-08T11:31:22.776396Z",
     "shell.execute_reply": "2021-08-08T11:31:22.775259Z",
     "shell.execute_reply.started": "2021-08-08T11:31:22.727517Z"
    }
   },
   "outputs": [],
   "source": [
    "# Identifying file path\n",
    "file_path = 'vgsales.csv'\n",
    "# Importing data into DataFrame\n",
    "vgsales_data = pd.read_csv(file_path, index_col=0)"
   ]
  },
  {
   "cell_type": "markdown",
   "metadata": {},
   "source": [
    "# Exploring data"
   ]
  },
  {
   "cell_type": "code",
   "execution_count": 3,
   "metadata": {
    "execution": {
     "iopub.execute_input": "2021-08-08T11:31:22.778185Z",
     "iopub.status.busy": "2021-08-08T11:31:22.777851Z",
     "iopub.status.idle": "2021-08-08T11:31:22.806287Z",
     "shell.execute_reply": "2021-08-08T11:31:22.805227Z",
     "shell.execute_reply.started": "2021-08-08T11:31:22.778154Z"
    }
   },
   "outputs": [
    {
     "data": {
      "text/html": [
       "<div>\n",
       "<style scoped>\n",
       "    .dataframe tbody tr th:only-of-type {\n",
       "        vertical-align: middle;\n",
       "    }\n",
       "\n",
       "    .dataframe tbody tr th {\n",
       "        vertical-align: top;\n",
       "    }\n",
       "\n",
       "    .dataframe thead th {\n",
       "        text-align: right;\n",
       "    }\n",
       "</style>\n",
       "<table border=\"1\" class=\"dataframe\">\n",
       "  <thead>\n",
       "    <tr style=\"text-align: right;\">\n",
       "      <th></th>\n",
       "      <th>Name</th>\n",
       "      <th>Platform</th>\n",
       "      <th>Year</th>\n",
       "      <th>Genre</th>\n",
       "      <th>Publisher</th>\n",
       "      <th>NA_Sales</th>\n",
       "      <th>EU_Sales</th>\n",
       "      <th>JP_Sales</th>\n",
       "      <th>Other_Sales</th>\n",
       "      <th>Global_Sales</th>\n",
       "    </tr>\n",
       "    <tr>\n",
       "      <th>Rank</th>\n",
       "      <th></th>\n",
       "      <th></th>\n",
       "      <th></th>\n",
       "      <th></th>\n",
       "      <th></th>\n",
       "      <th></th>\n",
       "      <th></th>\n",
       "      <th></th>\n",
       "      <th></th>\n",
       "      <th></th>\n",
       "    </tr>\n",
       "  </thead>\n",
       "  <tbody>\n",
       "    <tr>\n",
       "      <th>1</th>\n",
       "      <td>Wii Sports</td>\n",
       "      <td>Wii</td>\n",
       "      <td>2006.0</td>\n",
       "      <td>Sports</td>\n",
       "      <td>Nintendo</td>\n",
       "      <td>41.49</td>\n",
       "      <td>29.02</td>\n",
       "      <td>3.77</td>\n",
       "      <td>8.46</td>\n",
       "      <td>82.74</td>\n",
       "    </tr>\n",
       "    <tr>\n",
       "      <th>2</th>\n",
       "      <td>Super Mario Bros.</td>\n",
       "      <td>NES</td>\n",
       "      <td>1985.0</td>\n",
       "      <td>Platform</td>\n",
       "      <td>Nintendo</td>\n",
       "      <td>29.08</td>\n",
       "      <td>3.58</td>\n",
       "      <td>6.81</td>\n",
       "      <td>0.77</td>\n",
       "      <td>40.24</td>\n",
       "    </tr>\n",
       "    <tr>\n",
       "      <th>3</th>\n",
       "      <td>Mario Kart Wii</td>\n",
       "      <td>Wii</td>\n",
       "      <td>2008.0</td>\n",
       "      <td>Racing</td>\n",
       "      <td>Nintendo</td>\n",
       "      <td>15.85</td>\n",
       "      <td>12.88</td>\n",
       "      <td>3.79</td>\n",
       "      <td>3.31</td>\n",
       "      <td>35.82</td>\n",
       "    </tr>\n",
       "    <tr>\n",
       "      <th>4</th>\n",
       "      <td>Wii Sports Resort</td>\n",
       "      <td>Wii</td>\n",
       "      <td>2009.0</td>\n",
       "      <td>Sports</td>\n",
       "      <td>Nintendo</td>\n",
       "      <td>15.75</td>\n",
       "      <td>11.01</td>\n",
       "      <td>3.28</td>\n",
       "      <td>2.96</td>\n",
       "      <td>33.00</td>\n",
       "    </tr>\n",
       "    <tr>\n",
       "      <th>5</th>\n",
       "      <td>Pokemon Red/Pokemon Blue</td>\n",
       "      <td>GB</td>\n",
       "      <td>1996.0</td>\n",
       "      <td>Role-Playing</td>\n",
       "      <td>Nintendo</td>\n",
       "      <td>11.27</td>\n",
       "      <td>8.89</td>\n",
       "      <td>10.22</td>\n",
       "      <td>1.00</td>\n",
       "      <td>31.37</td>\n",
       "    </tr>\n",
       "  </tbody>\n",
       "</table>\n",
       "</div>"
      ],
      "text/plain": [
       "                          Name Platform    Year         Genre Publisher  \\\n",
       "Rank                                                                      \n",
       "1                   Wii Sports      Wii  2006.0        Sports  Nintendo   \n",
       "2            Super Mario Bros.      NES  1985.0      Platform  Nintendo   \n",
       "3               Mario Kart Wii      Wii  2008.0        Racing  Nintendo   \n",
       "4            Wii Sports Resort      Wii  2009.0        Sports  Nintendo   \n",
       "5     Pokemon Red/Pokemon Blue       GB  1996.0  Role-Playing  Nintendo   \n",
       "\n",
       "      NA_Sales  EU_Sales  JP_Sales  Other_Sales  Global_Sales  \n",
       "Rank                                                           \n",
       "1        41.49     29.02      3.77         8.46         82.74  \n",
       "2        29.08      3.58      6.81         0.77         40.24  \n",
       "3        15.85     12.88      3.79         3.31         35.82  \n",
       "4        15.75     11.01      3.28         2.96         33.00  \n",
       "5        11.27      8.89     10.22         1.00         31.37  "
      ]
     },
     "execution_count": 3,
     "metadata": {},
     "output_type": "execute_result"
    }
   ],
   "source": [
    "vgsales_data.head()"
   ]
  },
  {
   "cell_type": "code",
   "execution_count": null,
   "metadata": {
    "execution": {
     "iopub.execute_input": "2021-08-08T11:31:22.808387Z",
     "iopub.status.busy": "2021-08-08T11:31:22.807920Z",
     "iopub.status.idle": "2021-08-08T11:31:22.833370Z",
     "shell.execute_reply": "2021-08-08T11:31:22.832220Z",
     "shell.execute_reply.started": "2021-08-08T11:31:22.808340Z"
    }
   },
   "outputs": [],
   "source": [
    "vgsales_data.info()"
   ]
  },
  {
   "cell_type": "code",
   "execution_count": null,
   "metadata": {
    "execution": {
     "iopub.execute_input": "2021-08-08T11:31:24.907076Z",
     "iopub.status.busy": "2021-08-08T11:31:24.906717Z",
     "iopub.status.idle": "2021-08-08T11:31:24.913521Z",
     "shell.execute_reply": "2021-08-08T11:31:24.912394Z",
     "shell.execute_reply.started": "2021-08-08T11:31:24.907033Z"
    }
   },
   "outputs": [],
   "source": [
    "vgsales_data.shape"
   ]
  },
  {
   "cell_type": "code",
   "execution_count": null,
   "metadata": {
    "execution": {
     "iopub.execute_input": "2021-08-08T11:35:47.145401Z",
     "iopub.status.busy": "2021-08-08T11:35:47.144403Z",
     "iopub.status.idle": "2021-08-08T11:35:47.156468Z",
     "shell.execute_reply": "2021-08-08T11:35:47.155694Z",
     "shell.execute_reply.started": "2021-08-08T11:35:47.145354Z"
    }
   },
   "outputs": [],
   "source": [
    "# Counting the number of rows where there are null values in year column\n",
    "vgsales_data['Name'].loc[vgsales_data.Year.isnull()].count()"
   ]
  },
  {
   "cell_type": "code",
   "execution_count": null,
   "metadata": {
    "execution": {
     "iopub.execute_input": "2021-08-08T11:35:47.366483Z",
     "iopub.status.busy": "2021-08-08T11:35:47.365935Z",
     "iopub.status.idle": "2021-08-08T11:35:47.373985Z",
     "shell.execute_reply": "2021-08-08T11:35:47.373302Z",
     "shell.execute_reply.started": "2021-08-08T11:35:47.366449Z"
    }
   },
   "outputs": [],
   "source": [
    "# Counting the number of rows where there are null values in publisher column\n",
    "vgsales_data['Name'].loc[vgsales_data.Publisher.isnull()].count()"
   ]
  },
  {
   "cell_type": "markdown",
   "metadata": {},
   "source": [
    "### Observations\n",
    "* Through reviewing the columns, the following are the columns that have null values 'year, publisher'.\n",
    "* Year type is float.\n",
    "\n",
    "### Actions\n",
    "* Due to the low number of null values within the two columns of Year (271) and Publisher (58), We decided to drop the rows that include null values.\n",
    "* Change Year type to object."
   ]
  },
  {
   "cell_type": "code",
   "execution_count": null,
   "metadata": {
    "execution": {
     "iopub.execute_input": "2021-08-08T11:36:30.027162Z",
     "iopub.status.busy": "2021-08-08T11:36:30.026614Z",
     "iopub.status.idle": "2021-08-08T11:36:30.063622Z",
     "shell.execute_reply": "2021-08-08T11:36:30.062405Z",
     "shell.execute_reply.started": "2021-08-08T11:36:30.027129Z"
    }
   },
   "outputs": [],
   "source": [
    "# Dropping rows of Null values in the entire dataset\n",
    "vgsales_data.dropna(inplace=True)"
   ]
  },
  {
   "cell_type": "code",
   "execution_count": null,
   "metadata": {
    "execution": {
     "iopub.execute_input": "2021-08-08T11:36:33.845986Z",
     "iopub.status.busy": "2021-08-08T11:36:33.845354Z",
     "iopub.status.idle": "2021-08-08T11:36:33.925303Z",
     "shell.execute_reply": "2021-08-08T11:36:33.924393Z",
     "shell.execute_reply.started": "2021-08-08T11:36:33.845935Z"
    }
   },
   "outputs": [],
   "source": [
    "# Changing Year type from float to object\n",
    "vgsales_data['Year'] = vgsales_data['Year'].astype(str)\n",
    "vgsales_data['Year'] = vgsales_data['Year'].str.split('.').str[0]\n",
    "vgsales_data = vgsales_data.sort_values('Year', ascending=False)"
   ]
  },
  {
   "cell_type": "markdown",
   "metadata": {},
   "source": [
    "### Visual Exploration"
   ]
  },
  {
   "cell_type": "code",
   "execution_count": null,
   "metadata": {
    "execution": {
     "iopub.execute_input": "2021-08-08T11:36:35.890806Z",
     "iopub.status.busy": "2021-08-08T11:36:35.890186Z",
     "iopub.status.idle": "2021-08-08T11:36:37.901385Z",
     "shell.execute_reply": "2021-08-08T11:36:37.900165Z",
     "shell.execute_reply.started": "2021-08-08T11:36:35.890758Z"
    }
   },
   "outputs": [],
   "source": [
    "fig, axes = plt.subplots(nrows=2, ncols=2,figsize=(18,20))\n",
    "fig.suptitle('Region sales per year');\n",
    "sns.barplot(y= vgsales_data['Year'], x=vgsales_data['EU_Sales'], estimator=sum, ci=None, ax=axes[0,0], color='Blue').set_title('EU_Sales');\n",
    "sns.barplot(y= vgsales_data['Year'], x=vgsales_data['NA_Sales'], estimator=sum, ci=None, ax=axes[0,1], color='Blue').set_title('NA_Sales');\n",
    "sns.barplot(y= vgsales_data['Year'], x=vgsales_data['JP_Sales'], estimator=sum, ci=None, ax=axes[1,0], color='Blue').set_title('JP_Sales');\n",
    "sns.barplot(y= vgsales_data['Year'], x=vgsales_data['Other_Sales'], estimator=sum, ci=None, ax=axes[1,1], color='Blue').set_title('Other_Sales');"
   ]
  },
  {
   "cell_type": "code",
   "execution_count": null,
   "metadata": {
    "execution": {
     "iopub.execute_input": "2021-08-08T12:02:07.791529Z",
     "iopub.status.busy": "2021-08-08T12:02:07.791118Z",
     "iopub.status.idle": "2021-08-08T12:02:08.467654Z",
     "shell.execute_reply": "2021-08-08T12:02:08.466591Z",
     "shell.execute_reply.started": "2021-08-08T12:02:07.791500Z"
    }
   },
   "outputs": [],
   "source": [
    "# reviewing the Global Sales per each year\n",
    "plt.figure(figsize=(12,10))\n",
    "plt.grid()\n",
    "sns.barplot(y= vgsales_data['Year'], x=vgsales_data['Global_Sales'], estimator=sum, ci=None, color='Blue').set_title('Global Sales per Year');"
   ]
  },
  {
   "cell_type": "markdown",
   "metadata": {},
   "source": [
    "# Data Analysis"
   ]
  },
  {
   "cell_type": "markdown",
   "metadata": {},
   "source": [
    "### Calculate sales for each genre"
   ]
  },
  {
   "cell_type": "code",
   "execution_count": null,
   "metadata": {
    "execution": {
     "iopub.execute_input": "2021-08-08T11:48:04.832434Z",
     "iopub.status.busy": "2021-08-08T11:48:04.832008Z",
     "iopub.status.idle": "2021-08-08T11:48:04.843201Z",
     "shell.execute_reply": "2021-08-08T11:48:04.842019Z",
     "shell.execute_reply.started": "2021-08-08T11:48:04.832373Z"
    }
   },
   "outputs": [],
   "source": [
    "# Counting the number of unique genres\n",
    "vgsales_data.Genre.nunique()"
   ]
  },
  {
   "cell_type": "code",
   "execution_count": null,
   "metadata": {
    "execution": {
     "iopub.execute_input": "2021-08-08T11:51:13.211737Z",
     "iopub.status.busy": "2021-08-08T11:51:13.211310Z",
     "iopub.status.idle": "2021-08-08T11:51:13.232025Z",
     "shell.execute_reply": "2021-08-08T11:51:13.230930Z",
     "shell.execute_reply.started": "2021-08-08T11:51:13.211702Z"
    }
   },
   "outputs": [],
   "source": [
    "Genre_NA = vgsales_data.groupby('Genre').NA_Sales.sum().sort_values(ascending=True)\n",
    "Genre_EU = vgsales_data.groupby('Genre').EU_Sales.sum().sort_values(ascending=True)\n",
    "Genre_JP = vgsales_data.groupby('Genre').JP_Sales.sum().sort_values(ascending=True)\n",
    "Genre_other = vgsales_data.groupby('Genre').Other_Sales.sum().sort_values(ascending=True)"
   ]
  },
  {
   "cell_type": "code",
   "execution_count": null,
   "metadata": {
    "execution": {
     "iopub.execute_input": "2021-08-08T11:51:13.731498Z",
     "iopub.status.busy": "2021-08-08T11:51:13.731079Z",
     "iopub.status.idle": "2021-08-08T11:51:14.505031Z",
     "shell.execute_reply": "2021-08-08T11:51:14.504265Z",
     "shell.execute_reply.started": "2021-08-08T11:51:13.731459Z"
    }
   },
   "outputs": [],
   "source": [
    "# plotting sales of different region versus each Genre\n",
    "fig, axes = plt.subplots(nrows=2, ncols=2,figsize=(15,15))\n",
    "Genre_NA.plot(kind='barh',ax=axes[0,0],xlabel='',title=\"Sales of NA by Genre\");\n",
    "Genre_EU.plot(kind='barh',ax=axes[0,1],xlabel='',title=\"Sales of EU by Genre\");\n",
    "Genre_JP.plot(kind='barh',ax=axes[1,0],xlabel='',title=\"Sales of JP by Genre\");\n",
    "Genre_other.plot(kind='barh',ax=axes[1,1],xlabel='',title=\"Sales of Other by Genre\");"
   ]
  },
  {
   "cell_type": "markdown",
   "metadata": {},
   "source": [
    "### Insight\n",
    "* Although the genre responsible for the highest sales in all regions is Action, Japan's highest sales genre is Role-Playing."
   ]
  },
  {
   "cell_type": "markdown",
   "metadata": {},
   "source": [
    "### Calculating highest sales for each publisher over the course of the years"
   ]
  },
  {
   "cell_type": "code",
   "execution_count": null,
   "metadata": {
    "execution": {
     "iopub.execute_input": "2021-08-08T12:11:37.744699Z",
     "iopub.status.busy": "2021-08-08T12:11:37.743882Z",
     "iopub.status.idle": "2021-08-08T12:11:37.760436Z",
     "shell.execute_reply": "2021-08-08T12:11:37.758954Z",
     "shell.execute_reply.started": "2021-08-08T12:11:37.744642Z"
    }
   },
   "outputs": [],
   "source": [
    "vgsales_data.Platform.nunique()"
   ]
  },
  {
   "cell_type": "code",
   "execution_count": null,
   "metadata": {
    "execution": {
     "iopub.execute_input": "2021-08-08T12:11:37.981959Z",
     "iopub.status.busy": "2021-08-08T12:11:37.981511Z",
     "iopub.status.idle": "2021-08-08T12:11:37.992859Z",
     "shell.execute_reply": "2021-08-08T12:11:37.991775Z",
     "shell.execute_reply.started": "2021-08-08T12:11:37.981921Z"
    }
   },
   "outputs": [],
   "source": [
    "vgsales_data.Publisher.nunique()"
   ]
  },
  {
   "cell_type": "code",
   "execution_count": null,
   "metadata": {
    "execution": {
     "iopub.execute_input": "2021-08-08T12:40:06.925628Z",
     "iopub.status.busy": "2021-08-08T12:40:06.925250Z",
     "iopub.status.idle": "2021-08-08T12:40:06.956622Z",
     "shell.execute_reply": "2021-08-08T12:40:06.955799Z",
     "shell.execute_reply.started": "2021-08-08T12:40:06.925597Z"
    }
   },
   "outputs": [],
   "source": [
    "# subdataframe for year,publisher & global_sales\n",
    "publisher_df = vgsales_data[['Year','Publisher','Global_Sales']]\n",
    "\n",
    "# grouping the subdataframe based on year and publisher to obtain global sales total values for each publisher per year\n",
    "df_1 = publisher_df.groupby(['Year','Publisher'],as_index=False)['Global_Sales'].sum()\n",
    "df_1"
   ]
  },
  {
   "cell_type": "code",
   "execution_count": null,
   "metadata": {
    "execution": {
     "iopub.execute_input": "2021-08-08T12:44:59.293535Z",
     "iopub.status.busy": "2021-08-08T12:44:59.292943Z",
     "iopub.status.idle": "2021-08-08T12:45:04.433200Z",
     "shell.execute_reply": "2021-08-08T12:45:04.432386Z",
     "shell.execute_reply.started": "2021-08-08T12:44:59.293501Z"
    }
   },
   "outputs": [],
   "source": [
    "fig = px.scatter(df_1,x='Year',y='Global_Sales',title='Publisher Global Sales over Years',color='Publisher',width=1100, height=500)\n",
    "fig.show()"
   ]
  },
  {
   "cell_type": "markdown",
   "metadata": {},
   "source": [
    "### Insight\n",
    "The previous plot show that \"Nintendo\" has the highest five global total sales and the values are as follows:\n",
    "* in year 2006 global sales reached 205.61 million\n",
    "* in year 2009 global sales reached 128.89 million\n",
    "* in year 2005 global sales reached 127.47 million\n",
    "* in year 2007 global sales reached 104.18 million\n",
    "* in year 2008 global sales reached 91.22 million"
   ]
  },
  {
   "cell_type": "markdown",
   "metadata": {},
   "source": [
    "### Calculating each region percentage of global genre sales"
   ]
  },
  {
   "cell_type": "code",
   "execution_count": null,
   "metadata": {
    "execution": {
     "iopub.execute_input": "2021-08-08T12:49:06.231675Z",
     "iopub.status.busy": "2021-08-08T12:49:06.231109Z",
     "iopub.status.idle": "2021-08-08T12:49:06.257546Z",
     "shell.execute_reply": "2021-08-08T12:49:06.256786Z",
     "shell.execute_reply.started": "2021-08-08T12:49:06.231642Z"
    }
   },
   "outputs": [],
   "source": [
    "Percent_df = vgsales_data.groupby('Genre')['NA_Sales','EU_Sales','JP_Sales','Other_Sales','Global_Sales'].sum()\n",
    "Percent_df"
   ]
  },
  {
   "cell_type": "code",
   "execution_count": null,
   "metadata": {
    "execution": {
     "iopub.execute_input": "2021-08-08T12:49:06.607672Z",
     "iopub.status.busy": "2021-08-08T12:49:06.607131Z",
     "iopub.status.idle": "2021-08-08T12:49:08.097340Z",
     "shell.execute_reply": "2021-08-08T12:49:08.096527Z",
     "shell.execute_reply.started": "2021-08-08T12:49:06.607638Z"
    }
   },
   "outputs": [],
   "source": [
    "# plotting a pie chart for each genre showing the percentage of each region sales from the global sales\n",
    "fig, axs = plt.subplots(4,3,figsize=(20,20))\n",
    "fig.suptitle('contribution of regions from global sales in each Genre');\n",
    "percent_genre = {}\n",
    "for i,row in Percent_df.iterrows():\n",
    "    x = [row.NA_Sales/row.Global_Sales,\n",
    "        row.EU_Sales/row.Global_Sales,\n",
    "        row.JP_Sales/row.Global_Sales,\n",
    "        row.Other_Sales/row.Global_Sales]\n",
    "    percent_genre.update({i:x})\n",
    "mylabels = [\"NA_sales\", \"EU_sales\", \"JP_sales\", \"Other_sales\"]\n",
    "for x,ax in zip(percent_genre.items(), axs.flatten()):\n",
    "    ax.pie(x=x[1],labels=mylabels,autopct='%1.1f%%',)\n",
    "    ax.set_title(x[0])\n"
   ]
  },
  {
   "cell_type": "markdown",
   "metadata": {},
   "source": [
    "### Insight\n",
    "* the previous pie charts show that in the whole genres of video games sales, NA contributes with the highest percentage over the entire period, and the second highest sales varies between EU & JP"
   ]
  }
 ],
 "metadata": {
  "hide_input": false,
  "kernelspec": {
   "display_name": "Python 3",
   "language": "python",
   "name": "python3"
  },
  "language_info": {
   "codemirror_mode": {
    "name": "ipython",
    "version": 3
   },
   "file_extension": ".py",
   "mimetype": "text/x-python",
   "name": "python",
   "nbconvert_exporter": "python",
   "pygments_lexer": "ipython3",
   "version": "3.8.5"
  }
 },
 "nbformat": 4,
 "nbformat_minor": 4
}
